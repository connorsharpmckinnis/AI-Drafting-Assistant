{
 "cells": [
  {
   "cell_type": "code",
   "execution_count": 6,
   "id": "9defb5a7",
   "metadata": {},
   "outputs": [],
   "source": [
    "import gradio as gr\n",
    "from google import genai\n",
    "from google.genai import types"
   ]
  },
  {
   "cell_type": "code",
   "execution_count": null,
   "id": "74d1ded8",
   "metadata": {},
   "outputs": [
    {
     "name": "stdout",
     "output_type": "stream",
     "text": [
      "* Running on local URL:  http://127.0.0.1:7868\n",
      "* To create a public link, set `share=True` in `launch()`.\n"
     ]
    },
    {
     "data": {
      "text/html": [
       "<div><iframe src=\"http://127.0.0.1:7868/\" width=\"100%\" height=\"500\" allow=\"autoplay; camera; microphone; clipboard-read; clipboard-write;\" frameborder=\"0\" allowfullscreen></iframe></div>"
      ],
      "text/plain": [
       "<IPython.core.display.HTML object>"
      ]
     },
     "metadata": {},
     "output_type": "display_data"
    },
    {
     "data": {
      "text/plain": []
     },
     "execution_count": 12,
     "metadata": {},
     "output_type": "execute_result"
    },
    {
     "name": "stdout",
     "output_type": "stream",
     "text": [
      "You are a pirate You must always talk like a pirate, including coarse language.You are a refined and elegant gentleperson. You must always speak in a highly dignified and respectable manner, similar to that of a high-class British aristocrat in the eighteen-hundreds.\n",
      "\n"
     ]
    }
   ],
   "source": [
    "def get_context(context_choice):\n",
    "    if context_choice == \"Pirate\":\n",
    "        context = \"You are a pirate You must always talk like a pirate, including coarse language.\"\n",
    "    elif context_choice == \"Refined\":\n",
    "        context = \"You are a refined and elegant gentleperson. You must always speak in a highly dignified and respectable manner, similar to that of a high-class British aristocrat in the eighteen-hundreds.\"\n",
    "\n",
    "    return context\n",
    "\n",
    "def get_response(prompt, pirate, refined, model=\"gemini-2.5-flash-lite\"):\n",
    "    context = \"\"\n",
    "    if pirate:\n",
    "        context = context + get_context(\"Pirate\")\n",
    "    if refined: \n",
    "        context = context + get_context(\"Refined\")\n",
    "    \n",
    "    print(context)\n",
    "    client = genai.Client()\n",
    "    \n",
    "    response = client.models.generate_content(\n",
    "        model = model,\n",
    "        contents = prompt,\n",
    "        config=types.GenerateContentConfig(\n",
    "            system_instruction=context)\n",
    "    )\n",
    "    \n",
    "    return response.text\n",
    "\n",
    "demo = gr.Interface(\n",
    "    fn=get_response, \n",
    "    inputs=[\"text\", \"checkbox\", \"checkbox\"], \n",
    "    outputs=\"text\"\n",
    "    )\n",
    "demo.launch()"
   ]
  }
 ],
 "metadata": {
  "kernelspec": {
   "display_name": "AI-Drafting-Assistant (3.13.5)",
   "language": "python",
   "name": "python3"
  },
  "language_info": {
   "codemirror_mode": {
    "name": "ipython",
    "version": 3
   },
   "file_extension": ".py",
   "mimetype": "text/x-python",
   "name": "python",
   "nbconvert_exporter": "python",
   "pygments_lexer": "ipython3",
   "version": "3.13.5"
  }
 },
 "nbformat": 4,
 "nbformat_minor": 5
}
